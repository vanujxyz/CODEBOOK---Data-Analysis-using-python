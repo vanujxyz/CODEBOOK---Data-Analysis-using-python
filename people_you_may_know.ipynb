{
 "cells": [
  {
   "cell_type": "code",
   "execution_count": 2,
   "id": "6fc08ed1-7b9c-44c6-9510-d3a135c40e90",
   "metadata": {},
   "outputs": [],
   "source": [
    "import json"
   ]
  },
  {
   "cell_type": "code",
   "execution_count": 3,
   "id": "f568e83f-fd29-4496-b315-ca4b221ad03c",
   "metadata": {},
   "outputs": [],
   "source": [
    "def load_data(filename):\n",
    "    with open(filename,\"r\") as f:\n",
    "        data = json.load(f)\n",
    "    return data\n",
    "\n",
    "def find_people(user_id,data):\n",
    "    #for data sanitation\n",
    "    user_friends = {}\n",
    "    for user in data[\"users\"]:\n",
    "        user_friends[user[\"id\"]] = set(user[\"friends\"])\n",
    "\n",
    "    if user_id not in user_friends:\n",
    "        return []\n",
    "    #finiding direct friends of user\n",
    "    direct_friends = user_friends[user_id]\n",
    "    suggestions = {}\n",
    "    \n",
    "    for friend in direct_friends:\n",
    "        for mutual in user_friends[friend]:\n",
    "            if mutual != user_id and mutual not in direct_friends:\n",
    "                suggestions[mutual] = suggestions.get(mutual,0) + 1\n",
    "\n",
    "    sorted_suggestions = sorted(suggestions.items(),key = lambda x:x[1],reverse = True)\n",
    "    return [user_id for user_id , count in sorted_suggestions]"
   ]
  },
  {
   "cell_type": "code",
   "execution_count": 4,
   "id": "8f18c771-592f-4789-98d1-f1d1260809bf",
   "metadata": {},
   "outputs": [],
   "source": [
    "data = load_data(\"massive_data.json\")\n",
    "user_id = 1\n",
    "recc = find_people(user_id,data)\n",
    "    "
   ]
  },
  {
   "cell_type": "code",
   "execution_count": 5,
   "id": "248f895c-dac7-459d-913d-56fea5ea0dc2",
   "metadata": {},
   "outputs": [
    {
     "data": {
      "text/plain": [
       "[7, 8, 9, 10, 11, 12]"
      ]
     },
     "execution_count": 5,
     "metadata": {},
     "output_type": "execute_result"
    }
   ],
   "source": [
    "recc"
   ]
  },
  {
   "cell_type": "code",
   "execution_count": null,
   "id": "220417a2-dc81-486e-a789-ccee3aa209e6",
   "metadata": {},
   "outputs": [],
   "source": []
  }
 ],
 "metadata": {
  "kernelspec": {
   "display_name": "Python [conda env:base] *",
   "language": "python",
   "name": "conda-base-py"
  },
  "language_info": {
   "codemirror_mode": {
    "name": "ipython",
    "version": 3
   },
   "file_extension": ".py",
   "mimetype": "text/x-python",
   "name": "python",
   "nbconvert_exporter": "python",
   "pygments_lexer": "ipython3",
   "version": "3.12.7"
  }
 },
 "nbformat": 4,
 "nbformat_minor": 5
}
