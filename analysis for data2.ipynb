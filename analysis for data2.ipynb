{
 "cells": [
  {
   "cell_type": "markdown",
   "id": "eb332924-694d-42dc-a48f-99512acb7db0",
   "metadata": {},
   "source": [
    "## DATA ANALYSIS FOR DATA2"
   ]
  },
  {
   "cell_type": "code",
   "execution_count": 1,
   "id": "c6eec58f-d9ab-4cff-af42-955d2947a630",
   "metadata": {},
   "outputs": [],
   "source": [
    "#loading the data"
   ]
  },
  {
   "cell_type": "code",
   "execution_count": 3,
   "id": "2b39ac7a-39fe-4963-b1bd-47c786bf66ed",
   "metadata": {},
   "outputs": [],
   "source": [
    "def load_data(filename):\n",
    "    with open(filename,\"r\") as file:\n",
    "        data = json.load(file)\n",
    "\n",
    "    return data"
   ]
  },
  {
   "cell_type": "code",
   "execution_count": 4,
   "id": "c1f2038b-9d2a-4a2e-9762-af88747419ad",
   "metadata": {},
   "outputs": [],
   "source": [
    "data = load_data(\"data2.json\")"
   ]
  },
  {
   "cell_type": "code",
   "execution_count": 5,
   "id": "b225348d-2704-492b-a819-44f32a174714",
   "metadata": {},
   "outputs": [
    {
     "data": {
      "text/plain": [
       "{'users': [{'id': 1, 'name': 'Amit', 'friends': [2, 3], 'liked_pages': [101]},\n",
       "  {'id': 2, 'name': 'Priya', 'friends': [1, 4], 'liked_pages': [102]},\n",
       "  {'id': 3, 'name': '', 'friends': [1], 'liked_pages': [101, 103]},\n",
       "  {'id': 4, 'name': 'Sara', 'friends': [2, 2], 'liked_pages': [104]},\n",
       "  {'id': 5, 'name': 'Amit', 'friends': [], 'liked_pages': []}],\n",
       " 'pages': [{'id': 101, 'name': 'Python Developers'},\n",
       "  {'id': 102, 'name': 'Data Science Enthusiasts'},\n",
       "  {'id': 103, 'name': 'AI & ML Community'},\n",
       "  {'id': 104, 'name': 'Web Dev Hub'},\n",
       "  {'id': 104, 'name': 'Web Development'}]}"
      ]
     },
     "execution_count": 5,
     "metadata": {},
     "output_type": "execute_result"
    }
   ],
   "source": [
    "data"
   ]
  },
  {
   "cell_type": "markdown",
   "id": "7ae28293-416c-4775-a81e-bd3cffe4ecc2",
   "metadata": {},
   "source": [
    "## finding the inconsistencies in the data users\n",
    "\n",
    "1. id 3 has no name so it needs to be removed\n",
    "2. id 4 has the same friend repeated twice so that needs to fixed\n",
    "3. id 5 has no friends and liked pages making him inactive so we can remove him\n",
    "\n",
    "## inconsistencies in data pages\n",
    "1.same id for two different pages"
   ]
  },
  {
   "cell_type": "code",
   "execution_count": 10,
   "id": "af213989-4666-40d9-b4e8-3ede5c7550a4",
   "metadata": {},
   "outputs": [],
   "source": [
    "import json\n",
    "\n",
    "def clean_data(filename):\n",
    "    with open(filename, \"r\") as f:\n",
    "        data = json.load(f)\n",
    "\n",
    "    cleaned_users = []\n",
    "\n",
    "    for user in data[\"users\"]:\n",
    "        # Skip users with empty names\n",
    "        if user[\"name\"] == \"\":\n",
    "            continue\n",
    "\n",
    "        # Convert friends list to a set to remove duplicates, then back to list\n",
    "        user[\"friends\"] = list(set(user[\"friends\"]))\n",
    "\n",
    "        # Skip users with no friends and no liked pages\n",
    "        if not user[\"friends\"] and not user[\"liked_pages\"]:\n",
    "            continue\n",
    "\n",
    "        cleaned_users.append(user)\n",
    "\n",
    "    # Replace users list with cleaned version\n",
    "    data[\"users\"] = cleaned_users\n",
    "\n",
    "    # Convert pages list to dictionary\n",
    "    data[\"pages\"] = {page[\"id\"]: page[\"name\"] for page in data[\"pages\"]}\n",
    "\n",
    "    # Save cleaned data\n",
    "    with open(\"cleaned_data2.json\", \"w\") as f:\n",
    "        json.dump(data, f, indent=2)\n"
   ]
  },
  {
   "cell_type": "code",
   "execution_count": 11,
   "id": "71679eb2-5ab5-4868-bc09-38e023e472ac",
   "metadata": {},
   "outputs": [],
   "source": [
    "clean_data(\"data2.json\")"
   ]
  },
  {
   "cell_type": "code",
   "execution_count": null,
   "id": "fff151c0-2e0e-466f-a019-deae3eedfc1b",
   "metadata": {},
   "outputs": [],
   "source": []
  }
 ],
 "metadata": {
  "kernelspec": {
   "display_name": "Python [conda env:base] *",
   "language": "python",
   "name": "conda-base-py"
  },
  "language_info": {
   "codemirror_mode": {
    "name": "ipython",
    "version": 3
   },
   "file_extension": ".py",
   "mimetype": "text/x-python",
   "name": "python",
   "nbconvert_exporter": "python",
   "pygments_lexer": "ipython3",
   "version": "3.12.7"
  }
 },
 "nbformat": 4,
 "nbformat_minor": 5
}
