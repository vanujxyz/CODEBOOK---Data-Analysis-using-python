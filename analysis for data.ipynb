{
 "cells": [
  {
   "cell_type": "markdown",
   "id": "e7697204-a591-47c2-8e74-8e7012cbcb8b",
   "metadata": {},
   "source": [
    "## DATA ANALYSIS FOR DATA.JSON"
   ]
  },
  {
   "cell_type": "code",
   "execution_count": 1,
   "id": "fae14d0e-9736-49a8-8243-f5bdc3a35248",
   "metadata": {},
   "outputs": [],
   "source": [
    "import json"
   ]
  },
  {
   "cell_type": "code",
   "execution_count": 2,
   "id": "3029011e-6a56-468a-92b1-1b9cbc4e22cd",
   "metadata": {},
   "outputs": [],
   "source": [
    "#FIRST STEP IS LOADING THE FILE IN PYTHON\n",
    "def load_data(filename):\n",
    "    with open(filename,\"r\") as file:\n",
    "        data = json.load(file)\n",
    "\n",
    "    return data"
   ]
  },
  {
   "cell_type": "code",
   "execution_count": 3,
   "id": "68538713-243a-473a-a530-9aec5a64a3ca",
   "metadata": {},
   "outputs": [],
   "source": [
    "data = load_data(\"massive_data.json\")"
   ]
  },
  {
   "cell_type": "code",
   "execution_count": 4,
   "id": "2e4d4e8b-0e4d-4236-a80f-a766f3bf5e57",
   "metadata": {},
   "outputs": [
    {
     "data": {
      "text/plain": [
       "dict"
      ]
     },
     "execution_count": 4,
     "metadata": {},
     "output_type": "execute_result"
    }
   ],
   "source": [
    "type(data)"
   ]
  },
  {
   "cell_type": "code",
   "execution_count": 5,
   "id": "d9ab3bc7-e49a-44d6-841b-3314a429d46d",
   "metadata": {},
   "outputs": [
    {
     "data": {
      "text/plain": [
       "{'users': [{'id': 1,\n",
       "   'name': 'Amit',\n",
       "   'friends': [2, 3, 4, 5, 6],\n",
       "   'liked_pages': [101, 102]},\n",
       "  {'id': 2,\n",
       "   'name': 'Priya',\n",
       "   'friends': [1, 3, 5, 6, 7],\n",
       "   'liked_pages': [102, 103]},\n",
       "  {'id': 3,\n",
       "   'name': 'Rahul',\n",
       "   'friends': [1, 2, 4, 7, 8],\n",
       "   'liked_pages': [101, 103]},\n",
       "  {'id': 4, 'name': 'Sara', 'friends': [1, 3, 6, 8, 9], 'liked_pages': [104]},\n",
       "  {'id': 5,\n",
       "   'name': 'Neha',\n",
       "   'friends': [1, 2, 6, 10, 11],\n",
       "   'liked_pages': [102, 105]},\n",
       "  {'id': 6,\n",
       "   'name': 'Vikram',\n",
       "   'friends': [1, 2, 4, 5, 12],\n",
       "   'liked_pages': [106]},\n",
       "  {'id': 7,\n",
       "   'name': 'Kunal',\n",
       "   'friends': [2, 3, 8, 9, 13],\n",
       "   'liked_pages': [101, 107]},\n",
       "  {'id': 8,\n",
       "   'name': 'Anjali',\n",
       "   'friends': [3, 4, 7, 10, 14],\n",
       "   'liked_pages': [103, 108]},\n",
       "  {'id': 9,\n",
       "   'name': 'Ravi',\n",
       "   'friends': [4, 7, 10, 11, 15],\n",
       "   'liked_pages': [104, 109]},\n",
       "  {'id': 10,\n",
       "   'name': 'Sneha',\n",
       "   'friends': [5, 8, 9, 12, 16],\n",
       "   'liked_pages': [110]},\n",
       "  {'id': 11,\n",
       "   'name': 'Arjun',\n",
       "   'friends': [5, 9, 12, 14, 17],\n",
       "   'liked_pages': [105, 111]},\n",
       "  {'id': 12,\n",
       "   'name': 'Meera',\n",
       "   'friends': [6, 10, 11, 13, 18],\n",
       "   'liked_pages': [112]},\n",
       "  {'id': 13,\n",
       "   'name': 'Kabir',\n",
       "   'friends': [7, 12, 14, 15, 19],\n",
       "   'liked_pages': [106, 113]},\n",
       "  {'id': 14,\n",
       "   'name': 'Tanya',\n",
       "   'friends': [8, 11, 13, 16, 20],\n",
       "   'liked_pages': [114]},\n",
       "  {'id': 15,\n",
       "   'name': 'Varun',\n",
       "   'friends': [9, 13, 16, 17, 21],\n",
       "   'liked_pages': [107, 115]},\n",
       "  {'id': 16,\n",
       "   'name': 'Rhea',\n",
       "   'friends': [10, 14, 15, 18, 22],\n",
       "   'liked_pages': [116]},\n",
       "  {'id': 17,\n",
       "   'name': 'Ishan',\n",
       "   'friends': [11, 15, 18, 19, 23],\n",
       "   'liked_pages': [108, 117]},\n",
       "  {'id': 18,\n",
       "   'name': 'Simran',\n",
       "   'friends': [12, 16, 17, 20, 24],\n",
       "   'liked_pages': [118]},\n",
       "  {'id': 19,\n",
       "   'name': 'Pooja',\n",
       "   'friends': [13, 17, 20, 21, 25],\n",
       "   'liked_pages': [109, 119]},\n",
       "  {'id': 20,\n",
       "   'name': 'Yash',\n",
       "   'friends': [14, 18, 19, 22, 26],\n",
       "   'liked_pages': [120]},\n",
       "  {'id': 21,\n",
       "   'name': 'Ananya',\n",
       "   'friends': [15, 19, 22, 23, 27],\n",
       "   'liked_pages': [110, 121]},\n",
       "  {'id': 22,\n",
       "   'name': 'Dev',\n",
       "   'friends': [16, 20, 21, 24, 28],\n",
       "   'liked_pages': [122]},\n",
       "  {'id': 23,\n",
       "   'name': 'Aditi',\n",
       "   'friends': [17, 21, 24, 25, 29],\n",
       "   'liked_pages': [111, 123]},\n",
       "  {'id': 24,\n",
       "   'name': 'Rohan',\n",
       "   'friends': [18, 22, 23, 26, 30],\n",
       "   'liked_pages': [124]},\n",
       "  {'id': 25,\n",
       "   'name': 'Nisha',\n",
       "   'friends': [19, 23, 26, 27, 1],\n",
       "   'liked_pages': [112]},\n",
       "  {'id': 26,\n",
       "   'name': 'Gautam',\n",
       "   'friends': [20, 24, 25, 28, 3],\n",
       "   'liked_pages': [125]},\n",
       "  {'id': 27,\n",
       "   'name': 'Kriti',\n",
       "   'friends': [21, 25, 28, 29, 5],\n",
       "   'liked_pages': [113]},\n",
       "  {'id': 28,\n",
       "   'name': 'Harsh',\n",
       "   'friends': [22, 26, 27, 30, 7],\n",
       "   'liked_pages': [126]},\n",
       "  {'id': 29,\n",
       "   'name': 'Naveen',\n",
       "   'friends': [23, 27, 30, 9, 11],\n",
       "   'liked_pages': [114]},\n",
       "  {'id': 30,\n",
       "   'name': 'Ishita',\n",
       "   'friends': [24, 28, 29, 13, 15],\n",
       "   'liked_pages': [127]}],\n",
       " 'pages': [{'id': 101, 'name': 'Python Developers'},\n",
       "  {'id': 102, 'name': 'Data Science Enthusiasts'},\n",
       "  {'id': 103, 'name': 'AI & ML Community'},\n",
       "  {'id': 104, 'name': 'Web Dev Hub'},\n",
       "  {'id': 105, 'name': 'Blockchain Innovators'},\n",
       "  {'id': 106, 'name': 'Cybersecurity Experts'},\n",
       "  {'id': 107, 'name': 'Cloud Computing Pros'},\n",
       "  {'id': 108, 'name': 'Competitive Programmers'},\n",
       "  {'id': 109, 'name': 'Startup Founders'},\n",
       "  {'id': 110, 'name': 'UI/UX Designers'},\n",
       "  {'id': 111, 'name': 'Full-Stack Developers'},\n",
       "  {'id': 112, 'name': 'Tech Entrepreneurs'},\n",
       "  {'id': 113, 'name': 'IoT Enthusiasts'},\n",
       "  {'id': 114, 'name': 'Game Developers'},\n",
       "  {'id': 115, 'name': 'Big Data Analysts'},\n",
       "  {'id': 116, 'name': 'DevOps Engineers'},\n",
       "  {'id': 117, 'name': 'Cloud AI Researchers'},\n",
       "  {'id': 118, 'name': '5G & Edge Computing'},\n",
       "  {'id': 119, 'name': 'AR/VR Creators'},\n",
       "  {'id': 120, 'name': 'Freelance Coders'},\n",
       "  {'id': 121, 'name': 'Open Source Contributors'},\n",
       "  {'id': 122, 'name': 'Algorithmic Traders'},\n",
       "  {'id': 123, 'name': 'Low-Code Developers'},\n",
       "  {'id': 124, 'name': 'Cyber Ethics Forum'},\n",
       "  {'id': 125, 'name': 'AI Ethics & Policy'},\n",
       "  {'id': 126, 'name': 'Digital Nomads'},\n",
       "  {'id': 127, 'name': 'Women in Tech'}]}"
      ]
     },
     "execution_count": 5,
     "metadata": {},
     "output_type": "execute_result"
    }
   ],
   "source": [
    "data"
   ]
  },
  {
   "cell_type": "code",
   "execution_count": 6,
   "id": "6c117fc7-6712-468d-9d5c-e767738834be",
   "metadata": {},
   "outputs": [],
   "source": [
    "#writing a function to display users and their connections\n",
    "def load_friends(user,data):\n",
    "    id_to_name = {user[\"id\"]:user[\"name\"] for user in data[\"users\"]}\n",
    "    friends = {id_to_name[i] for i in user[\"friends\"]}\n",
    "    return friends\n",
    "\n",
    "def load_pages(user,data):\n",
    "    id_to_page = {page[\"id\"]:page[\"name\"] for page in data[\"pages\"]}\n",
    "    likedpages = {id_to_page[i] for i in user[\"liked_pages\"]}\n",
    "    return likedpages\n",
    "def connections(data):\n",
    "    for user in data[\"users\"]:\n",
    "        print(f\"id : {user[\"id\"]} name : {user[\"name\"]} friends = {load_friends(user,data)} liked pages: {load_pages(user,data)}\")"
   ]
  },
  {
   "cell_type": "code",
   "execution_count": 7,
   "id": "e896675f-3a9c-4964-a1e5-5cfeacaea5de",
   "metadata": {},
   "outputs": [
    {
     "name": "stdout",
     "output_type": "stream",
     "text": [
      "id : 1 name : Amit friends = {'Neha', 'Rahul', 'Priya', 'Sara', 'Vikram'} liked pages: {'Python Developers', 'Data Science Enthusiasts'}\n",
      "id : 2 name : Priya friends = {'Neha', 'Kunal', 'Rahul', 'Vikram', 'Amit'} liked pages: {'AI & ML Community', 'Data Science Enthusiasts'}\n",
      "id : 3 name : Rahul friends = {'Kunal', 'Priya', 'Sara', 'Anjali', 'Amit'} liked pages: {'AI & ML Community', 'Python Developers'}\n",
      "id : 4 name : Sara friends = {'Ravi', 'Rahul', 'Anjali', 'Vikram', 'Amit'} liked pages: {'Web Dev Hub'}\n",
      "id : 5 name : Neha friends = {'Arjun', 'Priya', 'Sneha', 'Vikram', 'Amit'} liked pages: {'Blockchain Innovators', 'Data Science Enthusiasts'}\n",
      "id : 6 name : Vikram friends = {'Neha', 'Priya', 'Sara', 'Meera', 'Amit'} liked pages: {'Cybersecurity Experts'}\n",
      "id : 7 name : Kunal friends = {'Ravi', 'Rahul', 'Priya', 'Kabir', 'Anjali'} liked pages: {'Python Developers', 'Cloud Computing Pros'}\n",
      "id : 8 name : Anjali friends = {'Kunal', 'Rahul', 'Sara', 'Tanya', 'Sneha'} liked pages: {'AI & ML Community', 'Competitive Programmers'}\n",
      "id : 9 name : Ravi friends = {'Kunal', 'Arjun', 'Sara', 'Sneha', 'Varun'} liked pages: {'Web Dev Hub', 'Startup Founders'}\n",
      "id : 10 name : Sneha friends = {'Neha', 'Rhea', 'Ravi', 'Meera', 'Anjali'} liked pages: {'UI/UX Designers'}\n",
      "id : 11 name : Arjun friends = {'Neha', 'Ravi', 'Ishan', 'Tanya', 'Meera'} liked pages: {'Full-Stack Developers', 'Blockchain Innovators'}\n",
      "id : 12 name : Meera friends = {'Arjun', 'Simran', 'Kabir', 'Sneha', 'Vikram'} liked pages: {'Tech Entrepreneurs'}\n",
      "id : 13 name : Kabir friends = {'Kunal', 'Pooja', 'Tanya', 'Meera', 'Varun'} liked pages: {'Cybersecurity Experts', 'IoT Enthusiasts'}\n",
      "id : 14 name : Tanya friends = {'Rhea', 'Arjun', 'Kabir', 'Anjali', 'Yash'} liked pages: {'Game Developers'}\n",
      "id : 15 name : Varun friends = {'Rhea', 'Ravi', 'Ishan', 'Kabir', 'Ananya'} liked pages: {'Big Data Analysts', 'Cloud Computing Pros'}\n",
      "id : 16 name : Rhea friends = {'Simran', 'Dev', 'Tanya', 'Sneha', 'Varun'} liked pages: {'DevOps Engineers'}\n",
      "id : 17 name : Ishan friends = {'Arjun', 'Aditi', 'Simran', 'Pooja', 'Varun'} liked pages: {'Competitive Programmers', 'Cloud AI Researchers'}\n",
      "id : 18 name : Simran friends = {'Rhea', 'Ishan', 'Rohan', 'Meera', 'Yash'} liked pages: {'5G & Edge Computing'}\n",
      "id : 19 name : Pooja friends = {'Ishan', 'Ananya', 'Kabir', 'Nisha', 'Yash'} liked pages: {'AR/VR Creators', 'Startup Founders'}\n",
      "id : 20 name : Yash friends = {'Gautam', 'Simran', 'Pooja', 'Dev', 'Tanya'} liked pages: {'Freelance Coders'}\n",
      "id : 21 name : Ananya friends = {'Aditi', 'Pooja', 'Dev', 'Kriti', 'Varun'} liked pages: {'UI/UX Designers', 'Open Source Contributors'}\n",
      "id : 22 name : Dev friends = {'Harsh', 'Rhea', 'Rohan', 'Ananya', 'Yash'} liked pages: {'Algorithmic Traders'}\n",
      "id : 23 name : Aditi friends = {'Ishan', 'Nisha', 'Naveen', 'Rohan', 'Ananya'} liked pages: {'Full-Stack Developers', 'Low-Code Developers'}\n",
      "id : 24 name : Rohan friends = {'Gautam', 'Aditi', 'Ishita', 'Simran', 'Dev'} liked pages: {'Cyber Ethics Forum'}\n",
      "id : 25 name : Nisha friends = {'Gautam', 'Aditi', 'Pooja', 'Kriti', 'Amit'} liked pages: {'Tech Entrepreneurs'}\n",
      "id : 26 name : Gautam friends = {'Harsh', 'Rahul', 'Rohan', 'Nisha', 'Yash'} liked pages: {'AI Ethics & Policy'}\n",
      "id : 27 name : Kriti friends = {'Harsh', 'Neha', 'Ananya', 'Naveen', 'Nisha'} liked pages: {'IoT Enthusiasts'}\n",
      "id : 28 name : Harsh friends = {'Kunal', 'Gautam', 'Ishita', 'Dev', 'Kriti'} liked pages: {'Digital Nomads'}\n",
      "id : 29 name : Naveen friends = {'Arjun', 'Ravi', 'Ishita', 'Aditi', 'Kriti'} liked pages: {'Game Developers'}\n",
      "id : 30 name : Ishita friends = {'Harsh', 'Naveen', 'Kabir', 'Rohan', 'Varun'} liked pages: {'Women in Tech'}\n"
     ]
    }
   ],
   "source": [
    "connections(data)"
   ]
  },
  {
   "cell_type": "code",
   "execution_count": null,
   "id": "2cd59fcf-268e-471b-84a8-b33847b92998",
   "metadata": {},
   "outputs": [],
   "source": []
  }
 ],
 "metadata": {
  "kernelspec": {
   "display_name": "Python [conda env:base] *",
   "language": "python",
   "name": "conda-base-py"
  },
  "language_info": {
   "codemirror_mode": {
    "name": "ipython",
    "version": 3
   },
   "file_extension": ".py",
   "mimetype": "text/x-python",
   "name": "python",
   "nbconvert_exporter": "python",
   "pygments_lexer": "ipython3",
   "version": "3.12.7"
  }
 },
 "nbformat": 4,
 "nbformat_minor": 5
}
